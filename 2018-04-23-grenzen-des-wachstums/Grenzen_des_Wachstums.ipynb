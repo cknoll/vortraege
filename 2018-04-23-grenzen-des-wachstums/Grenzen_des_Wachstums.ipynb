{
 "cells": [
  {
   "cell_type": "markdown",
   "metadata": {},
   "source": [
    "Dieses Notebook enthält die Begleitrechnungen zum Vortrag:\n",
    "\n",
    "“Die Grenzen des Wachstums – Nachhaltige Entwicklung aus systemdynamischer Perspektive.”, im Rahmen der Umweltringvorlesung https://tuuwi.de/vorlesungenseminare/umweltbewegungen/"
   ]
  },
  {
   "cell_type": "code",
   "execution_count": 11,
   "metadata": {},
   "outputs": [
    {
     "name": "stdout",
     "output_type": "stream",
     "text": [
      "The ipydex.displaytools extension is already loaded. To reload it, use:\n",
      "  %reload_ext ipydex.displaytools\n"
     ]
    }
   ],
   "source": [
    "%load_ext ipydex.displaytools\n",
    "from numpy import log, exp, linspace\n",
    "import matplotlib.pyplot as plt"
   ]
  },
  {
   "cell_type": "code",
   "execution_count": 3,
   "metadata": {},
   "outputs": [
    {
     "name": "stdout",
     "output_type": "stream",
     "text": [
      "1 1.02\n",
      "2 1.0404\n",
      "3 1.0612\n",
      "10 1.219\n",
      "20 1.4859\n",
      "40 2.208\n"
     ]
    }
   ],
   "source": [
    "# Zinsrechnung\n",
    "K0 = 100\n",
    "p = .02\n",
    "\n",
    "for n in [1, 2, 3, 10, 20, 40]:\n",
    "    print(n, round((1 + p)**n, 4))"
   ]
  },
  {
   "cell_type": "code",
   "execution_count": 4,
   "metadata": {},
   "outputs": [
    {
     "data": {
      "text/plain": [
       "T_verdopplung_2 := 35.002788781146499"
      ]
     },
     "metadata": {},
     "output_type": "display_data"
    },
    {
     "name": "stdout",
     "output_type": "stream",
     "text": [
      "---\n"
     ]
    },
    {
     "data": {
      "text/plain": [
       "T_verdopplung_5 := 9.0064683420005878"
      ]
     },
     "metadata": {},
     "output_type": "display_data"
    },
    {
     "name": "stdout",
     "output_type": "stream",
     "text": [
      "---\n"
     ]
    },
    {
     "data": {
      "text/plain": [
       "1.08**40  := 21.724521496799902"
      ]
     },
     "metadata": {},
     "output_type": "display_data"
    },
    {
     "name": "stdout",
     "output_type": "stream",
     "text": [
      "___\n"
     ]
    }
   ],
   "source": [
    "\n",
    "T_verdopplung_2 = log(2) / log(1.02) ##:\n",
    "T_verdopplung_5 = log(2) / log(1.08) ##:\n",
    "\n",
    "\n",
    "1.08**40 ##:\n"
   ]
  },
  {
   "cell_type": "markdown",
   "metadata": {},
   "source": [
    "## Schachbrett-Märchen\n",
    "\n",
    "Links:\n",
    "* https://de.wikipedia.org/wiki/Sissa_ibn_Dahir\n",
    "* http://www.uni-weimar.de/projekte/oil/hw03_reis2.html → 30mg / Korn\n",
    "* https://de.statista.com/statistik/daten/studie/180685/umfrage/produktionsmenge-von-reis-weltweit-seit-2008-09/\n",
    "    *  Im Erntejahr 2017/2018 wurden laut dieser Prognose aus dem Herbst 2017 weltweit rund 483 Millionen Tonnen Reis erzeugt"
   ]
  },
  {
   "cell_type": "code",
   "execution_count": 5,
   "metadata": {},
   "outputs": [
    {
     "data": {
      "text/plain": [
       "N_exakt := 9223372036854775808"
      ]
     },
     "metadata": {},
     "output_type": "display_data"
    },
    {
     "name": "stdout",
     "output_type": "stream",
     "text": [
      "---\n"
     ]
    },
    {
     "data": {
      "text/plain": [
       "N_approx := 8000000000000000000"
      ]
     },
     "metadata": {},
     "output_type": "display_data"
    },
    {
     "name": "stdout",
     "output_type": "stream",
     "text": [
      "---\n"
     ]
    }
   ],
   "source": [
    "# Körner auf dem letzten Feld\n",
    "N_exakt = 2**63 ##:\n",
    "N_approx = 1000**6 * 2**3 ##:"
   ]
  },
  {
   "cell_type": "code",
   "execution_count": 6,
   "metadata": {},
   "outputs": [
    {
     "data": {
      "text/plain": [
       "mass_in_kg := 2.4e+17"
      ]
     },
     "metadata": {},
     "output_type": "display_data"
    },
    {
     "name": "stdout",
     "output_type": "stream",
     "text": [
      "---\n"
     ]
    },
    {
     "data": {
      "text/plain": [
       "mass_in_t := 240000000000000.0"
      ]
     },
     "metadata": {},
     "output_type": "display_data"
    },
    {
     "name": "stdout",
     "output_type": "stream",
     "text": [
      "---\n"
     ]
    },
    {
     "data": {
      "text/plain": [
       "mass_bez_welternte := 496894.4099378882"
      ]
     },
     "metadata": {},
     "output_type": "display_data"
    },
    {
     "name": "stdout",
     "output_type": "stream",
     "text": [
      "---\n"
     ]
    }
   ],
   "source": [
    "mass_in_kg = N_approx*30e-3 ##:\n",
    "mass_in_t = mass_in_kg / 1000 ##:\n",
    "mass_bez_welternte = mass_in_t / (483e6) ##:\n"
   ]
  },
  {
   "cell_type": "markdown",
   "metadata": {},
   "source": [
    "## \"Josephspfennig\"\n",
    "Links: \n",
    "\n",
    "* https://de.wikipedia.org/wiki/Josephspfennig\n",
    "* https://www.goldpreis.de/\n",
    "* https://de.wikipedia.org/wiki/Erdmasse\n",
    "* http://www.bpb.de/nachschlagen/zahlen-und-fakten/globalisierung/52655/welt-bruttoinlandsprodukt\n",
    "    *  Welt-BIP ca. 8000 Milliarden US-Dollar (extrapoliert)\n",
    "* https://www.finanzen.net/devisen/dollarkurs: 1.22 Dollar/Euro"
   ]
  },
  {
   "cell_type": "code",
   "execution_count": 7,
   "metadata": {},
   "outputs": [
    {
     "data": {
      "text/plain": [
       "K2 := 2265408968753215.5"
      ]
     },
     "metadata": {},
     "output_type": "display_data"
    },
    {
     "name": "stdout",
     "output_type": "stream",
     "text": [
      "---\n"
     ]
    },
    {
     "data": {
      "text/plain": [
       "K2 / 1e15  := 2.2654089687532153"
      ]
     },
     "metadata": {},
     "output_type": "display_data"
    },
    {
     "name": "stdout",
     "output_type": "stream",
     "text": [
      "___\n"
     ]
    },
    {
     "data": {
      "text/plain": [
       "K2/BIP_Welt  := 28.317612109415194"
      ]
     },
     "metadata": {},
     "output_type": "display_data"
    },
    {
     "name": "stdout",
     "output_type": "stream",
     "text": [
      "___\n"
     ]
    },
    {
     "data": {
      "text/plain": [
       "K4 := 2.3619935369839827e+32"
      ]
     },
     "metadata": {},
     "output_type": "display_data"
    },
    {
     "name": "stdout",
     "output_type": "stream",
     "text": [
      "---\n"
     ]
    }
   ],
   "source": [
    "K2 = .01*(1+.02)**2018 ##:\n",
    "\n",
    "# in Billiarden (Millionen Milliarden)\n",
    "\n",
    "K2 / 1e15 ##:\n",
    "\n",
    "\n",
    "# Bezogen auf das BIP der Welt\n",
    "BIP_Welt = 80e12\n",
    "K2/BIP_Welt ##:\n",
    "\n",
    "\n",
    "K4 = .01*(1+.04)**2018 ##:\n"
   ]
  },
  {
   "cell_type": "code",
   "execution_count": 8,
   "metadata": {},
   "outputs": [
    {
     "data": {
      "text/plain": [
       "K_in_kg_gold := 7.346508498081281e+27"
      ]
     },
     "metadata": {},
     "output_type": "display_data"
    },
    {
     "name": "stdout",
     "output_type": "stream",
     "text": [
      "---\n"
     ]
    },
    {
     "data": {
      "text/plain": [
       "Erdmasse := 6e+24"
      ]
     },
     "metadata": {},
     "output_type": "display_data"
    },
    {
     "name": "stdout",
     "output_type": "stream",
     "text": [
      "---\n"
     ]
    },
    {
     "data": {
      "text/plain": [
       "1224.418083013547"
      ]
     },
     "execution_count": 8,
     "metadata": {},
     "output_type": "execute_result"
    }
   ],
   "source": [
    "# Umrechnung in Gold\n",
    "Goldpreis_pro_unze = 1000 # Durchschnitt von 2008-2018: ca. 1000 Euro\n",
    "Masse_unze = .031103 # Feinunze wiegt 31.103g\n",
    "\n",
    "K_in_kg_gold = K4 / Goldpreis_pro_unze * Masse_unze ##:\n",
    "\n",
    "Erdmasse = 6e24 ##:\n",
    "\n",
    "K_in_kg_gold / Erdmasse"
   ]
  },
  {
   "cell_type": "markdown",
   "metadata": {
    "collapsed": true
   },
   "source": [
    "### Grafik Exponentialfunktion"
   ]
  },
  {
   "cell_type": "code",
   "execution_count": 39,
   "metadata": {},
   "outputs": [
    {
     "data": {
      "image/png": "[encoded data removed]",
      "text/plain": [
       "<matplotlib.figure.Figure at 0x7f746c58db70>"
      ]
     },
     "metadata": {},
     "output_type": "display_data"
    }
   ],
   "source": [
    "tt = linspace(0, 40, 1000)\n",
    "xx1 = 100*1.02**tt\n",
    "xx2 = 100*1.08**tt\n",
    "\n",
    "plt.rcParams['font.size'] = 16\n",
    "plt.rcParams['axes.labelsize'] = 16\n",
    "plt.rcParams['figure.subplot.top'] = .995\n",
    "plt.rcParams['figure.subplot.bottom'] = .14\n",
    "\n",
    "plt.plot(tt, xx1, lw=3)\n",
    "plt.plot(tt, tt*0+xx1[0], 'k--', lw=0.5)\n",
    "plt.axis([0, 41, 0, 230])\n",
    "plt.xlabel('$t$ in y')\n",
    "plt.savefig('expfkt1.pdf')\n",
    "plt.plot(tt, xx2, lw=3)\n",
    "plt.axis([0, 41, 0, 2300])\n",
    "plt.savefig('expfkt2.pdf')"
   ]
  },
  {
   "cell_type": "code",
   "execution_count": 37,
   "metadata": {},
   "outputs": [
    {
     "data": {
      "text/plain": [
       "0.125"
      ]
     },
     "execution_count": 37,
     "metadata": {},
     "output_type": "execute_result"
    }
   ],
   "source": []
  },
  {
   "cell_type": "code",
   "execution_count": null,
   "metadata": {},
   "outputs": [],
   "source": []
  }
 ],
 "metadata": {
  "kernelspec": {
   "display_name": "Python 3",
   "language": "python",
   "name": "python3"
  },
  "language_info": {
   "codemirror_mode": {
    "name": "ipython",
    "version": 3
   },
   "file_extension": ".py",
   "mimetype": "text/x-python",
   "name": "python",
   "nbconvert_exporter": "python",
   "pygments_lexer": "ipython3",
   "version": "3.6.3"
  }
 },
 "nbformat": 4,
 "nbformat_minor": 2
}
